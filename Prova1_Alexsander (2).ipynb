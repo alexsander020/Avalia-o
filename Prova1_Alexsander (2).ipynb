{
  "nbformat": 4,
  "nbformat_minor": 0,
  "metadata": {
    "colab": {
      "provenance": []
    },
    "kernelspec": {
      "name": "python3",
      "display_name": "Python 3"
    },
    "language_info": {
      "name": "python"
    }
  },
  "cells": [
    {
      "cell_type": "code",
      "source": [
        "from IPython.display import Image\n",
        "\n",
        "NOTA = 0\n",
        "q1 = False\n",
        "q2 = False\n",
        "q3 = False\n",
        "q4 = False\n",
        "q5 = False\n",
        "q6 = False\n",
        "q7 = False\n",
        "q8 = False\n",
        "q9 = False\n",
        "q10 = False"
      ],
      "metadata": {
        "id": "h8ya76-icfGp"
      },
      "execution_count": null,
      "outputs": []
    },
    {
      "cell_type": "code",
      "source": [
        "import requests\n",
        "\n",
        "resp = requests.get(\"https://rickandmortyapi.com/api/character/2\")\n",
        "\n",
        "if resp.status_code == 200:\n",
        "  if q1 == False:\n",
        "    q1 = True\n",
        "    NOTA += 1\n",
        "  print(f\"Parabéns você acertou! Sua nota até agora é {NOTA}\")\n",
        "else:\n",
        "  print(\"Sua resposta ainda não está correta\")"
      ],
      "metadata": {
        "id": "VxaKml7D5RQA",
        "colab": {
          "base_uri": "https://localhost:8080/"
        },
        "outputId": "51aa45d3-1fad-4b04-e084-a8b80672aabc"
      },
      "execution_count": null,
      "outputs": [
        {
          "output_type": "stream",
          "name": "stdout",
          "text": [
            "Parabéns você acertou! Sua nota até agora é 1\n"
          ]
        }
      ]
    },
    {
      "cell_type": "code",
      "source": [
        "data = resp.json()\n",
        "data"
      ],
      "metadata": {
        "colab": {
          "base_uri": "https://localhost:8080/"
        },
        "id": "_rDBcOAOflNL",
        "outputId": "f0434f0b-a0dd-4ac1-9536-091d8ab6cf3d"
      },
      "execution_count": null,
      "outputs": [
        {
          "output_type": "execute_result",
          "data": {
            "text/plain": [
              "{'created': '2017-11-04T18:50:21.651Z',\n",
              " 'episode': ['https://rickandmortyapi.com/api/episode/1',\n",
              "  'https://rickandmortyapi.com/api/episode/2',\n",
              "  'https://rickandmortyapi.com/api/episode/3',\n",
              "  'https://rickandmortyapi.com/api/episode/4',\n",
              "  'https://rickandmortyapi.com/api/episode/5',\n",
              "  'https://rickandmortyapi.com/api/episode/6',\n",
              "  'https://rickandmortyapi.com/api/episode/7',\n",
              "  'https://rickandmortyapi.com/api/episode/8',\n",
              "  'https://rickandmortyapi.com/api/episode/9',\n",
              "  'https://rickandmortyapi.com/api/episode/10',\n",
              "  'https://rickandmortyapi.com/api/episode/11',\n",
              "  'https://rickandmortyapi.com/api/episode/12',\n",
              "  'https://rickandmortyapi.com/api/episode/13',\n",
              "  'https://rickandmortyapi.com/api/episode/14',\n",
              "  'https://rickandmortyapi.com/api/episode/15',\n",
              "  'https://rickandmortyapi.com/api/episode/16',\n",
              "  'https://rickandmortyapi.com/api/episode/17',\n",
              "  'https://rickandmortyapi.com/api/episode/18',\n",
              "  'https://rickandmortyapi.com/api/episode/19',\n",
              "  'https://rickandmortyapi.com/api/episode/20',\n",
              "  'https://rickandmortyapi.com/api/episode/21',\n",
              "  'https://rickandmortyapi.com/api/episode/22',\n",
              "  'https://rickandmortyapi.com/api/episode/23',\n",
              "  'https://rickandmortyapi.com/api/episode/24',\n",
              "  'https://rickandmortyapi.com/api/episode/25',\n",
              "  'https://rickandmortyapi.com/api/episode/26',\n",
              "  'https://rickandmortyapi.com/api/episode/27',\n",
              "  'https://rickandmortyapi.com/api/episode/28',\n",
              "  'https://rickandmortyapi.com/api/episode/29',\n",
              "  'https://rickandmortyapi.com/api/episode/30',\n",
              "  'https://rickandmortyapi.com/api/episode/31',\n",
              "  'https://rickandmortyapi.com/api/episode/32',\n",
              "  'https://rickandmortyapi.com/api/episode/33',\n",
              "  'https://rickandmortyapi.com/api/episode/34',\n",
              "  'https://rickandmortyapi.com/api/episode/35',\n",
              "  'https://rickandmortyapi.com/api/episode/36',\n",
              "  'https://rickandmortyapi.com/api/episode/37',\n",
              "  'https://rickandmortyapi.com/api/episode/38',\n",
              "  'https://rickandmortyapi.com/api/episode/39',\n",
              "  'https://rickandmortyapi.com/api/episode/40',\n",
              "  'https://rickandmortyapi.com/api/episode/41',\n",
              "  'https://rickandmortyapi.com/api/episode/42',\n",
              "  'https://rickandmortyapi.com/api/episode/43',\n",
              "  'https://rickandmortyapi.com/api/episode/44',\n",
              "  'https://rickandmortyapi.com/api/episode/45',\n",
              "  'https://rickandmortyapi.com/api/episode/46',\n",
              "  'https://rickandmortyapi.com/api/episode/47',\n",
              "  'https://rickandmortyapi.com/api/episode/48',\n",
              "  'https://rickandmortyapi.com/api/episode/49',\n",
              "  'https://rickandmortyapi.com/api/episode/50',\n",
              "  'https://rickandmortyapi.com/api/episode/51'],\n",
              " 'gender': 'Male',\n",
              " 'id': 2,\n",
              " 'image': 'https://rickandmortyapi.com/api/character/avatar/2.jpeg',\n",
              " 'location': {'name': 'Citadel of Ricks',\n",
              "  'url': 'https://rickandmortyapi.com/api/location/3'},\n",
              " 'name': 'Morty Smith',\n",
              " 'origin': {'name': 'unknown', 'url': ''},\n",
              " 'species': 'Human',\n",
              " 'status': 'Alive',\n",
              " 'type': '',\n",
              " 'url': 'https://rickandmortyapi.com/api/character/2'}"
            ]
          },
          "metadata": {},
          "execution_count": 9
        }
      ]
    },
    {
      "cell_type": "code",
      "source": [
        "image = Image(data['image'])\n",
        "\n",
        "metaData = vars(image)\n",
        "if metaData['url'] != None:\n",
        "  if q2 == False:\n",
        "    q2 = True\n",
        "    NOTA += 1\n",
        "  print(f\"Parabéns você acertou! Sua nota até agora é {NOTA}\")\n",
        "else:\n",
        "  print(\"Sua resposta ainda não está correta\")\n",
        "image"
      ],
      "metadata": {
        "id": "5O0xQUWLngHu",
        "colab": {
          "base_uri": "https://localhost:8080/",
          "height": 335
        },
        "outputId": "8f70146a-3192-40c9-8ad7-af66f0aa1fd6"
      },
      "execution_count": null,
      "outputs": [
        {
          "output_type": "stream",
          "name": "stdout",
          "text": [
            "Parabéns você acertou! Sua nota até agora é 2\n"
          ]
        },
        {
          "output_type": "execute_result",
          "data": {
            "text/plain": [
              "<IPython.core.display.Image object>"
            ],
            "image/jpeg": "[encoded data removed]"
          },
          "metadata": {},
          "execution_count": 12
        }
      ]
    },
    {
      "cell_type": "code",
      "source": [
        "import pandas as pd\n",
        "\n",
        "lista = []\n",
        "i = 1 \n",
        "\n",
        "while i <= 20:\n",
        "  values = {\"created\" : \"0\",\n",
        "            \"gender\" :\"1\",\n",
        "          \"id\": \"2\",\n",
        "          \"image\" :\"3\",\n",
        "          \"location_name\" : \"4\",\n",
        "          \"location_url\" : \"5\",\n",
        "          \"name\" : \"6\",\n",
        "          \"origin_name\":\"7\",\n",
        "          \"origin_url\": \"8\",\n",
        "          \"species\" :\"9\",\n",
        "          \"status\": \"10\",\n",
        "          \"type\" :\"11\",\n",
        "          \"url\" :\"12\"        \n",
        "          }\n",
        "  try:      \n",
        "    resp = requests.get(f\"https://rickandmortyapi.com/api/character/{i}\")\n",
        "    data = resp.json()\n",
        "    values[\"created\"] = data[\"created\"]\n",
        "    values[\"gender\"] = data[\"gender\"]\n",
        "    values[\"id\"] = data[\"id\"]\n",
        "    values[\"image\"] = data[\"image\"]\n",
        "    values[\"location_name\"] = data[\"location\"][\"name\"]\n",
        "    values[\"location_url\"] = data[\"location\"][\"url\"]\n",
        "    values[\"name\"] = data[\"name\"]\n",
        "    values[\"origin_name\"] = data[\"origin\"][\"name\"]\n",
        "    values[\"origin_url\"] = data[\"origin\"][\"url\"]\n",
        "    values[\"species\"] = data[\"species\"]\n",
        "    values[\"status\"] = data[\"status\"]\n",
        "    values[\"type\"] = data[\"type\"]\n",
        "    values[\"url\"] = data[\"url\"]\n",
        "\n",
        "    lista.append(values) \n",
        "  except:\n",
        "    print('ERRO')\n",
        "   \n",
        "  i += 1\n",
        "\n",
        "df = pd.DataFrame(lista)\n"
      ],
      "metadata": {
        "id": "xvkOjdE25aDn"
      },
      "execution_count": null,
      "outputs": []
    },
    {
      "cell_type": "code",
      "source": [
        "if df[\"name\"][0] == 'Rick Sanchez':\n",
        "  if q3 == False:\n",
        "    q3 = True\n",
        "    NOTA += 1.5\n",
        "  print(f\"Parabéns você acertou! Sua nota até agora é {NOTA}\")\n",
        "else:\n",
        "  print(\"Sua resposta ainda não está correta\")\n"
      ],
      "metadata": {
        "colab": {
          "base_uri": "https://localhost:8080/"
        },
        "id": "11qn5eKht6-F",
        "outputId": "a66b64d8-4469-455c-ff6b-cac209f779ec"
      },
      "execution_count": null,
      "outputs": [
        {
          "output_type": "stream",
          "name": "stdout",
          "text": [
            "Parabéns você acertou! Sua nota até agora é 3.5\n"
          ]
        }
      ]
    },
    {
      "cell_type": "code",
      "source": [
        "baseRegressao = pd.get_dummies(data=df, columns=['gender', 'origin_name', 'species', 'status'])\n",
        "baseRegressao = baseRegressao.drop(['created', 'id', 'image', 'location_name', 'location_url', 'name', 'origin_url', 'type', 'url',     'gender_Female', 'origin_name_Abadango', 'species_Alien', 'status_Alive', 'location_url', 'status_unknown'], axis=1)\n",
        "baseRegressao\n",
        "X = baseRegressao[[\"gender_Male\", \"gender_unknown\", \"origin_name_Earth (C-137)\", \"origin_name_Earth (Replacement Dimension)\", \"origin_name_unknown\", \"species_Human\"]]\n",
        "y  =  baseRegressao[[\"status_Dead\"]]\n",
        "\n",
        "from sklearn.linear_model import LinearRegression\n",
        "import numpy as np\n",
        "reg = LinearRegression().fit(X, y)"
      ],
      "metadata": {
        "id": "Zd12wcpQrAR6"
      },
      "execution_count": null,
      "outputs": []
    },
    {
      "cell_type": "code",
      "source": [
        "status = reg.predict(np.array([[1, 0, 1, 0, 0, 1]]))\n",
        "r = round(status[0][0])\n",
        "\n",
        "if r == 1:\n",
        "  if q4 == False:\n",
        "    q4 = True\n",
        "    NOTA += 1.5\n",
        "  print(f\"Parabéns você acertou! Sua nota até agora é {NOTA}\\n\")\n",
        "else:\n",
        "  print(\"Sua resposta ainda não está correta\")"
      ],
      "metadata": {
        "colab": {
          "base_uri": "https://localhost:8080/"
        },
        "id": "yfFblHkJ1ZC5",
        "outputId": "7e8a58ed-b9c6-44ed-fcf0-2bffabe0f726"
      },
      "execution_count": null,
      "outputs": [
        {
          "output_type": "stream",
          "name": "stdout",
          "text": [
            "Parabéns você acertou! Sua nota até agora é 5.0\n",
            "\n"
          ]
        },
        {
          "output_type": "stream",
          "name": "stderr",
          "text": [
            "/usr/local/lib/python3.7/dist-packages/sklearn/base.py:451: UserWarning: X does not have valid feature names, but LinearRegression was fitted with feature names\n",
            "  \"X does not have valid feature names, but\"\n"
          ]
        }
      ]
    },
    {
      "cell_type": "code",
      "source": [
        "def estaVivo(gender_Male,\tgender_unknown,\torigin_name_Earth_C_137 ,origin_name_Earth_Replacement_Dimension,\torigin_name_unknown,\tspecies_Human):\n",
        "  status = reg.predict(np.array([[1, 0, 1, 0, 0, 1]]))\n",
        "  r = round(status[0][0])\n",
        "  if r == 1:\n",
        "    status = \"vivo\"\n",
        "\n",
        "  return status"
      ],
      "metadata": {
        "id": "SPB2v-nFyF46"
      },
      "execution_count": null,
      "outputs": []
    },
    {
      "cell_type": "code",
      "source": [
        "status = estaVivo(1, 0, 1, 0, 0, 1)\n",
        "\n",
        "if status == \"vivo\":\n",
        "  if q5 == False:\n",
        "    q5 = True\n",
        "    NOTA += 2\n",
        "  print(f\"Parabéns você acertou! Sua nota até agora é {NOTA}\\n\")\n",
        "else:\n",
        "  print(\"Sua resposta ainda não está correta\")"
      ],
      "metadata": {
        "colab": {
          "base_uri": "https://localhost:8080/"
        },
        "id": "W4YMhtxi4gdn",
        "outputId": "1554aa73-e956-4acd-f049-2eb2fed03877"
      },
      "execution_count": null,
      "outputs": [
        {
          "output_type": "stream",
          "name": "stdout",
          "text": [
            "Parabéns você acertou! Sua nota até agora é 8.0\n",
            "\n"
          ]
        },
        {
          "output_type": "stream",
          "name": "stderr",
          "text": [
            "/usr/local/lib/python3.7/dist-packages/sklearn/base.py:451: UserWarning: X does not have valid feature names, but LinearRegression was fitted with feature names\n",
            "  \"X does not have valid feature names, but\"\n"
          ]
        }
      ]
    },
    {
      "cell_type": "code",
      "source": [
        "import nltk\n",
        "import re\n",
        "from nltk.corpus import stopwords\n",
        "from nltk.tokenize import word_tokenize\n",
        "nltk.download('punkt')\n",
        "nltk.download('stopwords')\n",
        "\n",
        "stop_words = set(stopwords.words('portuguese'))\n",
        "\n",
        "def remove_mystopwords(sentence):\n",
        "    tokens = sentence.split(\" \")\n",
        "    word_tokens = word_tokenize(sentence)\n",
        "    word_tokens = [w for w in word_tokens if not w.lower() in stop_words and not w.isdigit()]\n",
        "    tokens_filtered = [w for w in word_tokens if not w.lower() in stop_words and not w.isdigit()] \n",
        "    return (\" \").join(tokens_filtered)"
      ],
      "metadata": {
        "id": "g3qrTuaV8C4s",
        "colab": {
          "base_uri": "https://localhost:8080/"
        },
        "outputId": "b44474a9-2315-43b0-e704-cfb32de6d5ac"
      },
      "execution_count": null,
      "outputs": [
        {
          "output_type": "stream",
          "name": "stdout",
          "text": [
            "[nltk_data] Downloading package punkt to /root/nltk_data...\n",
            "[nltk_data]   Package punkt is already up-to-date!\n",
            "[nltk_data] Downloading package stopwords to /root/nltk_data...\n",
            "[nltk_data]   Package stopwords is already up-to-date!\n"
          ]
        }
      ]
    },
    {
      "cell_type": "code",
      "source": [
        "sentence = \"Essa sentenca tem a o um dois 213 bugs e o ao que stopwors\"\n",
        "\n",
        "sentence_clean  = remove_mystopwords(sentence)\n",
        "\n",
        "if sentence_clean == \"sentenca dois bugs stopwors\":\n",
        "  if q6 == False:\n",
        "    q6 = True\n",
        "    NOTA += 1\n",
        "  print(f\"Parabéns você acertou! Sua nota até agora é {NOTA}\\n\")\n",
        "else:\n",
        "  print(\"Sua resposta ainda não está correta\")"
      ],
      "metadata": {
        "colab": {
          "base_uri": "https://localhost:8080/"
        },
        "id": "nALW5mph7D6u",
        "outputId": "95ab1656-349b-47b9-e641-a6cce4098aa6"
      },
      "execution_count": null,
      "outputs": [
        {
          "output_type": "stream",
          "name": "stdout",
          "text": [
            "Parabéns você acertou! Sua nota até agora é 8.0\n",
            "\n"
          ]
        }
      ]
    }
  ]
}